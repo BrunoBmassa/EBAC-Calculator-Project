{
  "nbformat": 4,
  "nbformat_minor": 0,
  "metadata": {
    "colab": {
      "provenance": []
    },
    "kernelspec": {
      "name": "python3",
      "display_name": "Python 3"
    },
    "language_info": {
      "name": "python"
    }
  },
  "cells": [
    {
      "cell_type": "code",
      "execution_count": 8,
      "metadata": {
        "id": "EGQ7FbK6Lywu",
        "colab": {
          "base_uri": "https://localhost:8080/"
        },
        "outputId": "11123710-393d-4410-e051-95435ddbf3d3"
      },
      "outputs": [
        {
          "output_type": "stream",
          "name": "stdout",
          "text": [
            "Digite o primeiro valor10\n",
            "Digite o segundo valor10\n",
            "Escolha qual operação deseja realizar : Soma, Subtração, Multiplicação ou Divisãomultiplicação\n",
            "A multiplicação de 10.0 * 10.0 é 100.0\n"
          ]
        }
      ],
      "source": [
        "#Exercício Calculadora com condicional\n",
        "\n",
        "num1 = float(input('Digite o primeiro valor'))\n",
        "num2 = float(input('Digite o segundo valor'))\n",
        "opr = input('Escolha qual operação deseja realizar : Soma, Subtração, Multiplicação ou Divisão').lower()\n",
        "resultado = 0\n",
        "\n",
        "if opr == 'soma':\n",
        "  resultado = num1 + num2\n",
        "  print(\"A soma de\", num1,\"+\", num2, \"é\", resultado)\n",
        "elif opr == 'subtração':\n",
        "  resultado = num1 - num2\n",
        "  print(\"A subtração de\", num1,\"-\", num2, \"é\", resultado)\n",
        "elif opr == 'multiplicação':\n",
        "  resultado = num1 * num2\n",
        "  print(\"A multiplicação de\", num1,\"*\", num2, \"é\", resultado)\n",
        "else:\n",
        "  resultado = num1 / num2\n",
        "  print(\"A divisão de\", num1,\"/\", num2, \"é\", resultado)\n",
        "\n",
        "\n"
      ]
    },
    {
      "cell_type": "code",
      "source": [],
      "metadata": {
        "id": "nV5eSRWcsxIc"
      },
      "execution_count": null,
      "outputs": []
    }
  ]
}